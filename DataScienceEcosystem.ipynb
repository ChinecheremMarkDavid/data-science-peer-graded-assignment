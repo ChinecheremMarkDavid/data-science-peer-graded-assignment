{
 "cells": [
  {
   "cell_type": "markdown",
   "id": "73bf7550",
   "metadata": {},
   "source": [
    "# Title: Data Science Tools and Ecosystem\n"
   ]
  },
  {
   "cell_type": "markdown",
   "id": "fecb414d",
   "metadata": {},
   "source": [
    "# introduction\n",
    "In this notebook, Data Science Tools and Ecosystem are summarized."
   ]
  },
  {
   "cell_type": "markdown",
   "id": "bb1a187f",
   "metadata": {},
   "source": [
    "# Objectives:\n",
    "1. Some of the popular languages that Data Scientists use are\n",
    "2. Some of the commonly used libraries used by Data Scientists\n",
    "3. some of the commonly used data science tools\n",
    "4. few examples of arithmetic expressions in python"
   ]
  },
  {
   "cell_type": "markdown",
   "id": "67376259",
   "metadata": {},
   "source": [
    "# Some of the popular languages that Data Scientists use are:\n",
    "\n",
    "1. **Python**: Python is one of the most widely used languages in data science.\n",
    "\n",
    "2. **R**: R is another popular language specifically designed for statistical computing and data visualization.\n",
    "\n",
    "3. **SQL**: SQL (Structured Query Language) is essential for working with databases.\n",
    "\n",
    "4. **Java**: Java is a versatile language that finds applications in various fields, including data science.\n",
    "\n",
    "5. **Scala**: Scala is a language that runs on the Java Virtual Machine (JVM) and is well-known for its scalability and compatibility with big data processing frameworks like Apache Spark."
   ]
  },
  {
   "cell_type": "markdown",
   "id": "6117e1d6",
   "metadata": {},
   "source": [
    "# Some of the commonly used libraries used by Data Scientists include:\n",
    "\n",
    "1. **NumPy**: NumPy is the fundamental library for numerical computing in Python.\n",
    "\n",
    "2. **pandas**: pandas is a versatile library for data manipulation and analysis.\n",
    "\n",
    "3. **Matplotlib**: Matplotlib is a widely-used library for creating static, interactive, and animated visualizations in Python.\n",
    "\n",
    "4. **Seaborn**: Seaborn is built on top of Matplotlib and offers a higher-level interface for creating attractive statistical graphics.\n",
    "\n",
    "5. **scikit-learn**: scikit-learn is one of the most popular machine learning libraries in Python.\n"
   ]
  },
  {
   "cell_type": "markdown",
   "id": "eefd7caa",
   "metadata": {},
   "source": [
    "| Data Science Tools        |\n",
    "|--------------------------|\n",
    "| Jupyter Notebook         |\n",
    "| Pandas                   |\n",
    "| Scikit-learn             |\n"
   ]
  },
  {
   "cell_type": "markdown",
   "id": "987a4f81",
   "metadata": {},
   "source": [
    "### Below are a few examples of evaluating arithmetic expressions in Python\n",
    "1. Addition:\n",
    "5 + 20\n",
    "Result: 25\n",
    "\n",
    "2. Subtraction:\n",
    "10 - 9\n",
    "Result: 1\n",
    "\n",
    "3. Multiplication:\n",
    "6 * 10\n",
    "Result: 60\n",
    "\n",
    "4. Division:\n",
    "100 / 2\n",
    "Result: 50\n",
    "\n"
   ]
  },
  {
   "cell_type": "code",
   "execution_count": 13,
   "id": "0d5650fd",
   "metadata": {},
   "outputs": [
    {
     "name": "stdout",
     "output_type": "stream",
     "text": [
      "100\n",
      "50.0\n",
      "-110\n"
     ]
    }
   ],
   "source": [
    "# This a simple arithmetic expression to mutiply, divide and perform multiple arithmetics on integers\n",
    "print (25*4)\n",
    "print (100/2)\n",
    "print (25+21-78*2)"
   ]
  },
  {
   "cell_type": "code",
   "execution_count": 15,
   "id": "a82a7fa1",
   "metadata": {},
   "outputs": [
    {
     "name": "stdout",
     "output_type": "stream",
     "text": [
      "200 minutes is equal to 3.33 hours.\n"
     ]
    }
   ],
   "source": [
    "# This will convert 200 minutes to hours by diving by 60\n",
    "minutes = 200\n",
    "hours = minutes/60\n",
    "print(f\"{minutes} minutes is equal to {hours:.2f} hours.\")"
   ]
  },
  {
   "cell_type": "markdown",
   "id": "1c9b0b4b",
   "metadata": {},
   "source": [
    "## Author\n",
    "Chinecherem Mark-david Okoye"
   ]
  },
  {
   "cell_type": "code",
   "execution_count": null,
   "id": "c0bd6561",
   "metadata": {},
   "outputs": [],
   "source": []
  },
  {
   "cell_type": "code",
   "execution_count": null,
   "id": "e3197b3a",
   "metadata": {},
   "outputs": [],
   "source": []
  },
  {
   "cell_type": "markdown",
   "id": "9d7c69b7",
   "metadata": {},
   "source": []
  },
  {
   "cell_type": "code",
   "execution_count": null,
   "id": "244b46d7",
   "metadata": {},
   "outputs": [],
   "source": []
  },
  {
   "cell_type": "markdown",
   "id": "48872451",
   "metadata": {},
   "source": [
    " "
   ]
  },
  {
   "cell_type": "code",
   "execution_count": null,
   "id": "9654fdb9",
   "metadata": {},
   "outputs": [],
   "source": []
  }
 ],
 "metadata": {
  "kernelspec": {
   "display_name": "Python 3 (ipykernel)",
   "language": "python",
   "name": "python3"
  },
  "language_info": {
   "codemirror_mode": {
    "name": "ipython",
    "version": 3
   },
   "file_extension": ".py",
   "mimetype": "text/x-python",
   "name": "python",
   "nbconvert_exporter": "python",
   "pygments_lexer": "ipython3",
   "version": "3.11.3"
  }
 },
 "nbformat": 4,
 "nbformat_minor": 5
}
